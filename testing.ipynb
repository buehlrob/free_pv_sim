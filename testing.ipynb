{
 "cells": [
  {
   "cell_type": "code",
   "execution_count": 3,
   "id": "39e2aeac-b422-4de8-bc7e-15d5fa185559",
   "metadata": {},
   "outputs": [],
   "source": [
    "import dash\n",
    "from dash import dcc, html, Input, Output\n",
    "from dash.dependencies import Input, Output, State\n",
    "from dash.exceptions import PreventUpdate\n",
    "import plotly.graph_objs as go\n",
    "import pandas as pd\n",
    "import numpy as np\n",
    "import requests"
   ]
  },
  {
   "cell_type": "code",
   "execution_count": 4,
   "id": "18bde6bc-501e-423e-a823-d07b9364e816",
   "metadata": {
    "jupyter": {
     "source_hidden": true
    },
    "tags": []
   },
   "outputs": [],
   "source": [
    "def lv95ToWgs84(x,y):\n",
    "    \"\"\"\n",
    "    Convert swiss coordinates (LV03) to latitude, longitude values (WGS84)\n",
    "    https://www.swisstopo.admin.ch › ch1903wgs84_d\n",
    "\n",
    "    Parameters\n",
    "    ----------\n",
    "    x : float\n",
    "        lv95 x coordinate\n",
    "    y : float\n",
    "        lv95 y coordinate\n",
    "\n",
    "    Result\n",
    "    ---------\n",
    "    lat : float\n",
    "        latitude\n",
    "    lon : float\n",
    "        longitude\n",
    "\n",
    "    \"\"\"\n",
    "    ys=(x-2600000)/1000000 #LV95\n",
    "    xs=(y-1200000)/1000000  #LV95\n",
    "    lon=2.6779094+4.728982*ys+0.791484*ys*xs+0.1306*ys*xs*xs-0.0436*ys*ys*ys\n",
    "    lat=16.9023892+3.238272*xs-0.270978*ys*ys-0.002528*xs*xs-0.0447*ys*ys*xs-0.0140*xs*xs*xs\n",
    "    lon=lon*100/36\n",
    "    lat=lat*100/36\n",
    "    if np.isnan(lon) or np.isnan(lat):\n",
    "        return None\n",
    "    else:\n",
    "        return (lat,lon)\n",
    "\n",
    "def get_coordinates(adress):\n",
    "\n",
    "    url_1 = \"https://api3.geo.admin.ch//rest/services/api/SearchServer?lang=de&searchText=\"+adress+\"&type=locations&sr=2056\"\n",
    "    response = requests.get(url_1).json()\n",
    "    try:\n",
    "        y = response['results'][0]['attrs']['y']\n",
    "        x = response['results'][0]['attrs']['x']\n",
    "        coord = str(y)+\",\"+str(x)\n",
    "    except:\n",
    "        print(\"Error loading Adress\")\n",
    "    lat, lon = lv95ToWgs84(y,x)\n",
    "\n",
    "    return coord,lat,lon\n",
    "\n",
    "def get_building_id(coord):\n",
    "\n",
    "    url_2= \"https://api3.geo.admin.ch//rest/services/api/MapServer/identify?geometryType=esriGeometryPoint&returnGeometry=true&layers=all:ch.bfe.solarenergie-eignung-daecher&geometry=\"+coord+\"&tolerance=0&order=distance&lang=de&sr=2056\"\n",
    "    response = requests.get(url_2).json()\n",
    "    try:\n",
    "        building_id = response['results'][0]['attributes']['building_id']\n",
    "    except:\n",
    "        print(\"Error loading coordinates\"+coord)\n",
    "\n",
    "    return building_id\n",
    "\n",
    "def get_sonnendach(building_id): \n",
    "    feature_ids=[]\n",
    "    pv_class=[]\n",
    "    ausrichtung=[]\n",
    "    pv_yield=[]\n",
    "    neigung=[]\n",
    "    area=[]\n",
    "    building_ids=[]\n",
    "\n",
    "    url_3 = \"https://api3.geo.admin.ch//rest/services/api/MapServer/find?layer=ch.bfe.solarenergie-eignung-daecher&searchField=building_id&searchText=\"+str(building_id)+\"&contains=false\"\n",
    "    response = requests.get(url_3).json()\n",
    "    \n",
    "    for idx, num in enumerate(response['results']):\n",
    "        feature_id = response['results'][idx]['featureId']   \n",
    "        if feature_id not in feature_ids:\n",
    "            feature_ids.append(feature_id)\n",
    "            building_ids.append(building_id)\n",
    "            pv_class.append(response['results'][idx]['attributes']['klasse'])\n",
    "            ausrichtung.append(response['results'][idx]['attributes']['ausrichtung'])\n",
    "            pv_yield.append(response['results'][idx]['attributes']['stromertrag'])\n",
    "            neigung.append(response['results'][idx]['attributes']['neigung'])\n",
    "            area.append(response['results'][idx]['attributes']['flaeche'])\n",
    "\n",
    "    df = pd.DataFrame([building_ids,feature_ids,pv_class,ausrichtung,pv_yield,neigung,area]).transpose()\n",
    "    df.columns=['building_ids','feature_ids','PV_klasse','ausrichtung','Stromertrag','neigung','area']\n",
    "    return df\n"
   ]
  },
  {
   "cell_type": "code",
   "execution_count": null,
   "id": "f70a5113-467a-4bc1-bafe-5ae4c98cd7db",
   "metadata": {},
   "outputs": [],
   "source": []
  },
  {
   "cell_type": "code",
   "execution_count": null,
   "id": "b0d855f1-f693-49c5-b085-778216329f20",
   "metadata": {},
   "outputs": [],
   "source": []
  },
  {
   "cell_type": "code",
   "execution_count": 5,
   "id": "0ac5f90b-5fbc-4f2d-a2fc-077b3af68f3f",
   "metadata": {},
   "outputs": [],
   "source": [
    "adress = 'Dachlissen'+\"%20\"+str(100)+\"%20\"+str(8932)+\"%20\"+'Mettmenstetten'\n",
    "coord,lat,lon = get_coordinates(adress)\n",
    "building_id = get_building_id(coord)\n",
    "df = get_sonnendach(building_id)"
   ]
  },
  {
   "cell_type": "code",
   "execution_count": 6,
   "id": "701aeac0-f459-4dea-92df-73b5f40b4d7d",
   "metadata": {},
   "outputs": [
    {
     "data": {
      "text/html": [
       "<div>\n",
       "<style scoped>\n",
       "    .dataframe tbody tr th:only-of-type {\n",
       "        vertical-align: middle;\n",
       "    }\n",
       "\n",
       "    .dataframe tbody tr th {\n",
       "        vertical-align: top;\n",
       "    }\n",
       "\n",
       "    .dataframe thead th {\n",
       "        text-align: right;\n",
       "    }\n",
       "</style>\n",
       "<table border=\"1\" class=\"dataframe\">\n",
       "  <thead>\n",
       "    <tr style=\"text-align: right;\">\n",
       "      <th></th>\n",
       "      <th>building_ids</th>\n",
       "      <th>feature_ids</th>\n",
       "      <th>PV_klasse</th>\n",
       "      <th>ausrichtung</th>\n",
       "      <th>Stromertrag</th>\n",
       "      <th>neigung</th>\n",
       "      <th>area</th>\n",
       "    </tr>\n",
       "  </thead>\n",
       "  <tbody>\n",
       "    <tr>\n",
       "      <th>0</th>\n",
       "      <td>725140.0</td>\n",
       "      <td>11627701.0</td>\n",
       "      <td>5.0</td>\n",
       "      <td>18.0</td>\n",
       "      <td>25925.0</td>\n",
       "      <td>39.0</td>\n",
       "      <td>135.194607</td>\n",
       "    </tr>\n",
       "    <tr>\n",
       "      <th>1</th>\n",
       "      <td>725140.0</td>\n",
       "      <td>11627700.0</td>\n",
       "      <td>1.0</td>\n",
       "      <td>-162.0</td>\n",
       "      <td>13066.0</td>\n",
       "      <td>38.0</td>\n",
       "      <td>131.073914</td>\n",
       "    </tr>\n",
       "  </tbody>\n",
       "</table>\n",
       "</div>"
      ],
      "text/plain": [
       "   building_ids  feature_ids  PV_klasse  ausrichtung  Stromertrag  neigung  \\\n",
       "0      725140.0   11627701.0        5.0         18.0      25925.0     39.0   \n",
       "1      725140.0   11627700.0        1.0       -162.0      13066.0     38.0   \n",
       "\n",
       "         area  \n",
       "0  135.194607  \n",
       "1  131.073914  "
      ]
     },
     "execution_count": 6,
     "metadata": {},
     "output_type": "execute_result"
    }
   ],
   "source": [
    "df"
   ]
  },
  {
   "cell_type": "code",
   "execution_count": 6,
   "id": "b4cab40f-000f-45d6-9bb3-8c9e59b37c85",
   "metadata": {},
   "outputs": [
    {
     "data": {
      "text/plain": [
       "[11627701.0, 11627700.0]"
      ]
     },
     "execution_count": 6,
     "metadata": {},
     "output_type": "execute_result"
    }
   ],
   "source": [
    "list(df.feature_ids)"
   ]
  },
  {
   "cell_type": "code",
   "execution_count": 40,
   "id": "4ebba8e7-c8a8-46ac-a43a-d15a4842ece2",
   "metadata": {},
   "outputs": [],
   "source": []
  },
  {
   "cell_type": "code",
   "execution_count": 43,
   "id": "8658de83-b151-4bbf-a51a-63eaf9509bc5",
   "metadata": {},
   "outputs": [
    {
     "data": {
      "text/plain": [
       "building_ids    7.251400e+05\n",
       "feature_ids     1.162770e+07\n",
       "PV_klasse       1.000000e+00\n",
       "ausrichtung    -1.620000e+02\n",
       "Stromertrag     1.306600e+04\n",
       "neigung         3.800000e+01\n",
       "area            1.310739e+02\n",
       "Name: 1, dtype: float64"
      ]
     },
     "execution_count": 43,
     "metadata": {},
     "output_type": "execute_result"
    }
   ],
   "source": [
    "roof_info[11627700]\n",
    "    "
   ]
  },
  {
   "cell_type": "code",
   "execution_count": 42,
   "id": "33175713-7568-4d73-a383-b69179ab011b",
   "metadata": {},
   "outputs": [
    {
     "data": {
      "text/plain": [
       "{11627701.0: building_ids    7.251400e+05\n",
       " feature_ids     1.162770e+07\n",
       " PV_klasse       5.000000e+00\n",
       " ausrichtung     1.800000e+01\n",
       " Stromertrag     2.592500e+04\n",
       " neigung         3.900000e+01\n",
       " area            1.351946e+02\n",
       " Name: 0, dtype: float64,\n",
       " 11627700.0: building_ids    7.251400e+05\n",
       " feature_ids     1.162770e+07\n",
       " PV_klasse       1.000000e+00\n",
       " ausrichtung    -1.620000e+02\n",
       " Stromertrag     1.306600e+04\n",
       " neigung         3.800000e+01\n",
       " area            1.310739e+02\n",
       " Name: 1, dtype: float64}"
      ]
     },
     "execution_count": 42,
     "metadata": {},
     "output_type": "execute_result"
    }
   ],
   "source": [
    "roof_info"
   ]
  },
  {
   "cell_type": "code",
   "execution_count": null,
   "id": "b78f4306-db8f-48d4-99cb-79ec4136dda4",
   "metadata": {},
   "outputs": [],
   "source": []
  }
 ],
 "metadata": {
  "kernelspec": {
   "display_name": "Python 3",
   "language": "python",
   "name": "python3"
  },
  "language_info": {
   "codemirror_mode": {
    "name": "ipython",
    "version": 3
   },
   "file_extension": ".py",
   "mimetype": "text/x-python",
   "name": "python",
   "nbconvert_exporter": "python",
   "pygments_lexer": "ipython3",
   "version": "3.8.10"
  }
 },
 "nbformat": 4,
 "nbformat_minor": 5
}
